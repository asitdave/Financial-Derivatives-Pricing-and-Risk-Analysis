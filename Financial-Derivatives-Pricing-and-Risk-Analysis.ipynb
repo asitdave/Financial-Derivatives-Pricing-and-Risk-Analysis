{
 "cells": [
  {
   "cell_type": "markdown",
   "id": "dd5e1c02",
   "metadata": {},
   "source": [
    "# **Financial Derivatives Pricing & Risk Analysis**"
   ]
  },
  {
   "cell_type": "markdown",
   "id": "090197d1",
   "metadata": {},
   "source": [
    "### Project Overview\n",
    "This project demonstrates a full workflow that mirrors the responsibilities of a quantitative analyst or risk manager:\n",
    "1.\tCollect real market data for a publicly traded stock (Apple Inc., AAPL).\n",
    "2.\tModel the price behavior using historical and conditional volatility (GARCH).\n",
    "3.\tPrice derivatives (European call options) using Black-Scholes and calculate sensitivities (Greeks).\n",
    "4.\tConstruct a portfolio combining the stock and options.\n",
    "5.\tMeasure and simulate portfolio risk using parametric and Monte Carlo Value at Risk (VaR).\n",
    "6.\tVisualize results and interpret findings for practical decision-making.\n",
    "\n",
    "**Objective**: Show the ability to integrate data analysis, statistical modeling, financial theory, and risk management into a coherent, quantitative workflow."
   ]
  },
  {
   "cell_type": "code",
   "execution_count": 1,
   "id": "b0071669",
   "metadata": {},
   "outputs": [],
   "source": [
    "# Import necessary libraries\n",
    "import yfinance as yf\n",
    "import pandas_datareader.data as web\n",
    "from arch import arch_model\n",
    "\n",
    "import pandas as pd\n",
    "import numpy as np\n",
    "import warnings\n",
    "warnings.filterwarnings(\"ignore\")\n",
    "\n",
    "import matplotlib.pyplot as plt\n",
    "from scipy.stats import norm\n",
    "import seaborn as sns"
   ]
  },
  {
   "cell_type": "markdown",
   "id": "b2f5fdd0",
   "metadata": {},
   "source": [
    "#### Step 1: Choose a Stock and Download Market Data"
   ]
  },
  {
   "cell_type": "code",
   "execution_count": 2,
   "id": "f6fcd52c",
   "metadata": {},
   "outputs": [],
   "source": [
    "# Choose a stock\n",
    "ticker = \"AAPL\" # (Apple Inc.)"
   ]
  },
  {
   "cell_type": "code",
   "execution_count": 3,
   "id": "e5e19eb7",
   "metadata": {},
   "outputs": [
    {
     "name": "stderr",
     "output_type": "stream",
     "text": [
      "[*********************100%***********************]  1 of 1 completed\n"
     ]
    }
   ],
   "source": [
    "# Download last 1 year of daily prices (from Jan 1, 2020 to Jan 1, 2025)\n",
    "data = yf.download(ticker, start=\"2020-01-01\", end=\"2025-01-01\", interval=\"1d\")"
   ]
  },
  {
   "cell_type": "code",
   "execution_count": 4,
   "id": "e6742d4c",
   "metadata": {},
   "outputs": [
    {
     "data": {
      "text/html": [
       "<div>\n",
       "<style scoped>\n",
       "    .dataframe tbody tr th:only-of-type {\n",
       "        vertical-align: middle;\n",
       "    }\n",
       "\n",
       "    .dataframe tbody tr th {\n",
       "        vertical-align: top;\n",
       "    }\n",
       "\n",
       "    .dataframe thead th {\n",
       "        text-align: right;\n",
       "    }\n",
       "</style>\n",
       "<table border=\"1\" class=\"dataframe\">\n",
       "  <thead>\n",
       "    <tr style=\"text-align: right;\">\n",
       "      <th>Price</th>\n",
       "      <th>Close</th>\n",
       "      <th>High</th>\n",
       "      <th>Low</th>\n",
       "      <th>Open</th>\n",
       "      <th>Volume</th>\n",
       "    </tr>\n",
       "    <tr>\n",
       "      <th>Date</th>\n",
       "      <th></th>\n",
       "      <th></th>\n",
       "      <th></th>\n",
       "      <th></th>\n",
       "      <th></th>\n",
       "    </tr>\n",
       "  </thead>\n",
       "  <tbody>\n",
       "    <tr>\n",
       "      <th>2020-01-02</th>\n",
       "      <td>72.538521</td>\n",
       "      <td>72.598899</td>\n",
       "      <td>71.292311</td>\n",
       "      <td>71.545897</td>\n",
       "      <td>135480400</td>\n",
       "    </tr>\n",
       "    <tr>\n",
       "      <th>2020-01-03</th>\n",
       "      <td>71.833298</td>\n",
       "      <td>72.594063</td>\n",
       "      <td>71.608692</td>\n",
       "      <td>71.765674</td>\n",
       "      <td>146322800</td>\n",
       "    </tr>\n",
       "    <tr>\n",
       "      <th>2020-01-06</th>\n",
       "      <td>72.405678</td>\n",
       "      <td>72.444321</td>\n",
       "      <td>70.703012</td>\n",
       "      <td>70.954188</td>\n",
       "      <td>118387200</td>\n",
       "    </tr>\n",
       "    <tr>\n",
       "      <th>2020-01-07</th>\n",
       "      <td>72.065147</td>\n",
       "      <td>72.671341</td>\n",
       "      <td>71.845369</td>\n",
       "      <td>72.415337</td>\n",
       "      <td>108872000</td>\n",
       "    </tr>\n",
       "    <tr>\n",
       "      <th>2020-01-08</th>\n",
       "      <td>73.224403</td>\n",
       "      <td>73.526295</td>\n",
       "      <td>71.768079</td>\n",
       "      <td>71.768079</td>\n",
       "      <td>132079200</td>\n",
       "    </tr>\n",
       "    <tr>\n",
       "      <th>...</th>\n",
       "      <td>...</td>\n",
       "      <td>...</td>\n",
       "      <td>...</td>\n",
       "      <td>...</td>\n",
       "      <td>...</td>\n",
       "    </tr>\n",
       "    <tr>\n",
       "      <th>2024-12-24</th>\n",
       "      <td>257.286682</td>\n",
       "      <td>257.296626</td>\n",
       "      <td>254.386957</td>\n",
       "      <td>254.586262</td>\n",
       "      <td>23234700</td>\n",
       "    </tr>\n",
       "    <tr>\n",
       "      <th>2024-12-26</th>\n",
       "      <td>258.103729</td>\n",
       "      <td>259.179926</td>\n",
       "      <td>256.718662</td>\n",
       "      <td>257.276679</td>\n",
       "      <td>27237100</td>\n",
       "    </tr>\n",
       "    <tr>\n",
       "      <th>2024-12-27</th>\n",
       "      <td>254.685883</td>\n",
       "      <td>257.784897</td>\n",
       "      <td>252.164833</td>\n",
       "      <td>256.917949</td>\n",
       "      <td>42355300</td>\n",
       "    </tr>\n",
       "    <tr>\n",
       "      <th>2024-12-30</th>\n",
       "      <td>251.307877</td>\n",
       "      <td>252.603281</td>\n",
       "      <td>249.863009</td>\n",
       "      <td>251.337769</td>\n",
       "      <td>35557500</td>\n",
       "    </tr>\n",
       "    <tr>\n",
       "      <th>2024-12-31</th>\n",
       "      <td>249.534180</td>\n",
       "      <td>252.384064</td>\n",
       "      <td>248.547676</td>\n",
       "      <td>251.547039</td>\n",
       "      <td>39480700</td>\n",
       "    </tr>\n",
       "  </tbody>\n",
       "</table>\n",
       "<p>1258 rows × 5 columns</p>\n",
       "</div>"
      ],
      "text/plain": [
       "Price            Close        High         Low        Open     Volume\n",
       "Date                                                                 \n",
       "2020-01-02   72.538521   72.598899   71.292311   71.545897  135480400\n",
       "2020-01-03   71.833298   72.594063   71.608692   71.765674  146322800\n",
       "2020-01-06   72.405678   72.444321   70.703012   70.954188  118387200\n",
       "2020-01-07   72.065147   72.671341   71.845369   72.415337  108872000\n",
       "2020-01-08   73.224403   73.526295   71.768079   71.768079  132079200\n",
       "...                ...         ...         ...         ...        ...\n",
       "2024-12-24  257.286682  257.296626  254.386957  254.586262   23234700\n",
       "2024-12-26  258.103729  259.179926  256.718662  257.276679   27237100\n",
       "2024-12-27  254.685883  257.784897  252.164833  256.917949   42355300\n",
       "2024-12-30  251.307877  252.603281  249.863009  251.337769   35557500\n",
       "2024-12-31  249.534180  252.384064  248.547676  251.547039   39480700\n",
       "\n",
       "[1258 rows x 5 columns]"
      ]
     },
     "execution_count": 4,
     "metadata": {},
     "output_type": "execute_result"
    }
   ],
   "source": [
    "data.columns = data.columns.get_level_values(0)\n",
    "data"
   ]
  },
  {
   "cell_type": "code",
   "execution_count": 5,
   "id": "a0215c1a",
   "metadata": {},
   "outputs": [
    {
     "data": {
      "text/plain": [
       "Price\n",
       "Close     0\n",
       "High      0\n",
       "Low       0\n",
       "Open      0\n",
       "Volume    0\n",
       "dtype: int64"
      ]
     },
     "execution_count": 5,
     "metadata": {},
     "output_type": "execute_result"
    }
   ],
   "source": [
    "data.isna().sum()"
   ]
  },
  {
   "cell_type": "markdown",
   "id": "f97e465b",
   "metadata": {},
   "source": [
    "#### Step 2: Calculate Daily Returns"
   ]
  },
  {
   "cell_type": "code",
   "execution_count": 6,
   "id": "3ff9235d",
   "metadata": {},
   "outputs": [],
   "source": [
    "data['Returns'] = data['Close'].pct_change()"
   ]
  },
  {
   "cell_type": "markdown",
   "id": "60e045a0",
   "metadata": {},
   "source": [
    "#### Step 3: Calculate Volatility"
   ]
  },
  {
   "cell_type": "markdown",
   "id": "f0432600",
   "metadata": {},
   "source": [
    "##### 3a: Historical Volatility\n",
    "It is a standard deviation of returns, showing how \"noisy\" or \"risky\" the asset is. "
   ]
  },
  {
   "cell_type": "code",
   "execution_count": 7,
   "id": "16f94eda",
   "metadata": {},
   "outputs": [
    {
     "name": "stdout",
     "output_type": "stream",
     "text": [
      "\n",
      "Annualized Volatility: 0.3168\n"
     ]
    }
   ],
   "source": [
    "# Calculate annualized volatility\n",
    "daily_vol = data['Returns'].std()\n",
    "annual_vol = daily_vol * np.sqrt(252)  # 252 trading days in a year\n",
    "\n",
    "print(f\"\\nAnnualized Volatility: {annual_vol:.4f}\")"
   ]
  },
  {
   "cell_type": "markdown",
   "id": "cc709fa6",
   "metadata": {},
   "source": [
    "This shows that Apple's stock fluctuates ~31.7% per year on average"
   ]
  },
  {
   "cell_type": "markdown",
   "id": "680c47c1",
   "metadata": {},
   "source": [
    "##### 3b: GARCH Volatility Modeling\n",
    "\n",
    "Real markets exhibit volatility clustering (calm perdios vs. high-stress periods). Hence, we use statistical models to model how volatility changes over time. We compare historical constant volatility with conditional volatility from GARCH.\n",
    "\n",
    "Notes about ARCH:\n",
    "\n",
    "* ARCH stands for Autoregressive Conditional Heteroskedasticity\n",
    "\t* *Autoregressive* → depends on past values.\n",
    "\t* *Conditional* → today’s volatility depends on what happened yesterday.\n",
    "\t* *Heteroskedasticity* → variance (volatility) is not constant; it changes.\n",
    "\n",
    "* This model says, \"If yesterday's return was big (up or down), then today's volatility is likely to be high.\"\n",
    "\n",
    "* Mathematically, $\\sigma_t^2 = \\omega + \\alpha \\cdot \\epsilon^2_{t-1}$\n",
    "    where, \n",
    "    - $\\sigma_t^2$ = today's variance (volatility squared)\n",
    "    - $\\epsilon^2_{t-1}$ = yesterday's squared return (big return $\\rightarrow$ big volatility)\n",
    "    - $\\omega$, $\\alpha$ = constants estimated from data (model fitting)\n",
    "* ARCH(1) means it looks back one day\n",
    "While this model is useful, this only looks at the last day's return. That can be too simplistic since volatility tends to 'persist' for a while.\n",
    "\n",
    "\n",
    "Notes about GARCH:\n",
    "* GARCH stands for Generalized ARCH (Adds a term for past volatility itself)\n",
    "* Mathematically, $\\sigma_t^2 = \\omega + \\alpha \\cdot \\epsilon^2_{t-1} + \\beta \\cdot \\sigma^2_{t-1}$\n",
    "* This model says that today's volatility depends on two factors: 1. how big yesterday's shock was (ARCH part), and 2. how high volatility was yesterday (GARCH part)\n",
    "* Can smoothly describe how volatility clusters\n",
    "\n",
    "\n",
    "##### _Intuitive explanation_\n",
    "\n",
    "Let’s say you’re watching daily stock returns.\n",
    "* If yesterday had a big move (e.g. +5% or −5%), today the market feels uncertain → volatility goes up.\n",
    "→ That’s the ARCH(1) effect (reacting to last shock).\n",
    "* If volatility was already high yesterday, even if today’s move wasn’t huge, the market tends to “stay nervous.”\n",
    "→ That’s the GARCH(1) effect (volatility persistence).\n",
    "\n",
    "So, GARCH(1,1) mixes both effects:\n",
    "\n",
    "“Volatility today = constant base + reaction to yesterday’s surprise + continuation of yesterday’s volatility.”"
   ]
  },
  {
   "cell_type": "code",
   "execution_count": 8,
   "id": "e31be999",
   "metadata": {},
   "outputs": [],
   "source": [
    "returns = data['Returns'].dropna() * 100\n",
    "garch = arch_model(returns, vol='Garch', p=1, q=1)\n",
    "res = garch.fit(disp='off')\n",
    "forecast = res.forecast(horizon=1)\n",
    "sigma_t = np.sqrt(forecast.variance.values[-1,0]) / 100 # Forecasted volatility for next day\n",
    "sigma_t_annualized = sigma_t * np.sqrt(252)"
   ]
  },
  {
   "cell_type": "code",
   "execution_count": 9,
   "id": "67ca1e23",
   "metadata": {},
   "outputs": [
    {
     "name": "stdout",
     "output_type": "stream",
     "text": [
      "One day volatility\n",
      "*------------------*\n",
      "Historical: 0.0200\n",
      "GARCH: 0.0134\n",
      "\n",
      "\n",
      "Annualized volatility\n",
      "*------------------*\n",
      "Historical: 0.3168\n",
      "GARCH: 0.2131\n"
     ]
    }
   ],
   "source": [
    "print(\"One day volatility\")\n",
    "print(\"*------------------*\")\n",
    "print(f\"Historical: {daily_vol:.4f}\")\n",
    "print(f\"GARCH: {sigma_t:.4f}\")\n",
    "\n",
    "print(\"\\n\\nAnnualized volatility\")\n",
    "print(\"*------------------*\")\n",
    "print(f\"Historical: {annual_vol:.4f}\")\n",
    "print(f\"GARCH: {sigma_t_annualized:.4f}\")\n"
   ]
  },
  {
   "cell_type": "code",
   "execution_count": 10,
   "id": "20a9ffd3",
   "metadata": {},
   "outputs": [
    {
     "data": {
      "image/png": "[encoded data removed]",
      "text/plain": [
       "<Figure size 640x480 with 1 Axes>"
      ]
     },
     "metadata": {},
     "output_type": "display_data"
    }
   ],
   "source": [
    "plt.plot(returns.index, returns, label='Daily Returns')\n",
    "plt.xlabel(\"Date\")\n",
    "plt.ylabel(\"Returns (%)\")\n",
    "plt.title(\"Daily Returns Over Time\")\n",
    "plt.show()"
   ]
  },
  {
   "cell_type": "markdown",
   "id": "3196851f",
   "metadata": {},
   "source": [
    "#### Step 4: Black-Scholes Option Pricing"
   ]
  },
  {
   "cell_type": "markdown",
   "id": "3d05965d",
   "metadata": {},
   "source": [
    "Now we move into derivatives, specifically options. An **option** gives you the right but not the obligation to buy/sell an asset in the future at a fixed price (the strike price, K).\n",
    "\n",
    "Types\n",
    "* Call option → right to buy at K\n",
    "* Put option → right to sell at K\n",
    "\n",
    "We’ll price a European call option, which can only be exercised at expiry (not before)."
   ]
  },
  {
   "cell_type": "markdown",
   "id": "1d4beb54",
   "metadata": {},
   "source": [
    "The Black-Scholes formula for a European call option is:\n",
    "\n",
    "$C = S_0 \\cdot N(d_1) - K e^{-rT} \\cdot N(d_2)$\n",
    "\n",
    "Where:\n",
    "* C → Call option price\n",
    "* S0 → current stock price\n",
    "* K → strike price\n",
    "* T → time to expiry/maturity in years\n",
    "* r → risk-free interest rate\n",
    "* σ → volatility of the stock\n",
    "* N() → cumulative normal distribution\n",
    "\n",
    "Here, \n",
    "$ d_1 = \\frac{\\ln(S_0/K) + (r + \\sigma^2/2)T}{\\sigma \\sqrt{T}}, \\quad d_2 = d_1 - \\sigma \\sqrt{T}$\n",
    "* $d_1$:  “moneyness” adjusted for risk and time — how far current price is from strike in standard deviation units.\n",
    "* $d_2$: same, but excludes half the variance drift."
   ]
  },
  {
   "cell_type": "code",
   "execution_count": 11,
   "id": "63c1829a",
   "metadata": {},
   "outputs": [],
   "source": [
    "def black_scholes_call(S, K, T, r, sigma):\n",
    "    d1 = (np.log(S/K) + (r + 0.5*sigma**2)*T) / (sigma*np.sqrt(T))\n",
    "    d2 = d1 - sigma*np.sqrt(T)\n",
    "    call_price = S * norm.cdf(d1) - K * np.exp(-r*T) * norm.cdf(d2)\n",
    "    return call_price"
   ]
  },
  {
   "cell_type": "markdown",
   "id": "7ed0fd0e",
   "metadata": {},
   "source": [
    "To get risk-free interest rate, we fetch data from Federal Reserve Economic Data (FRED) website, run by U.S. central bank. Some pointers to note:\n",
    "* `DGS1MO` is the 1-month U.S. Treasury Constant Maturity Rate\n",
    "* U.S. Treasury - The U.S. government borrows money by selling 'Treasury securities' (like bonds)\n",
    "* Constant Maturity Rate - standardized interest rate the government publishes every day. It’s like saying, “If we borrowed money for 1 month today, this would be the interest rate.”\n",
    "\n",
    "**Why we use this?**\n",
    "This rate is often treated as the risk-free interest rate because lending to the U.S. government for 1 month is considered almost zero risk (they always pay back).\n",
    "That’s why in finance and investing, people use `DGS1MO` (or other Treasury rates like 3-month, 1-year, etc.) as a baseline to compare other investments.\n",
    "\n",
    "Hence, if a stock gives you 7% return per year, and the risk-free rate is 5%, you can say that you earned extra reward of 2% for taking risk.\n",
    "\n",
    "Note: One could also use `DGS3MO`, `DGS6MO`, `DGS1`, etc. but here, we shall assume that the option expiry is 30 days and therefore use `DGS1MO`."
   ]
  },
  {
   "cell_type": "code",
   "execution_count": 12,
   "id": "52694ad5",
   "metadata": {},
   "outputs": [
    {
     "data": {
      "text/html": [
       "<div>\n",
       "<style scoped>\n",
       "    .dataframe tbody tr th:only-of-type {\n",
       "        vertical-align: middle;\n",
       "    }\n",
       "\n",
       "    .dataframe tbody tr th {\n",
       "        vertical-align: top;\n",
       "    }\n",
       "\n",
       "    .dataframe thead th {\n",
       "        text-align: right;\n",
       "    }\n",
       "</style>\n",
       "<table border=\"1\" class=\"dataframe\">\n",
       "  <thead>\n",
       "    <tr style=\"text-align: right;\">\n",
       "      <th></th>\n",
       "      <th>DGS1MO</th>\n",
       "    </tr>\n",
       "    <tr>\n",
       "      <th>DATE</th>\n",
       "      <th></th>\n",
       "    </tr>\n",
       "  </thead>\n",
       "  <tbody>\n",
       "    <tr>\n",
       "      <th>2024-01-01</th>\n",
       "      <td>NaN</td>\n",
       "    </tr>\n",
       "    <tr>\n",
       "      <th>2024-01-02</th>\n",
       "      <td>5.55</td>\n",
       "    </tr>\n",
       "    <tr>\n",
       "      <th>2024-01-03</th>\n",
       "      <td>5.54</td>\n",
       "    </tr>\n",
       "    <tr>\n",
       "      <th>2024-01-04</th>\n",
       "      <td>5.56</td>\n",
       "    </tr>\n",
       "    <tr>\n",
       "      <th>2024-01-05</th>\n",
       "      <td>5.54</td>\n",
       "    </tr>\n",
       "    <tr>\n",
       "      <th>...</th>\n",
       "      <td>...</td>\n",
       "    </tr>\n",
       "    <tr>\n",
       "      <th>2024-12-26</th>\n",
       "      <td>4.45</td>\n",
       "    </tr>\n",
       "    <tr>\n",
       "      <th>2024-12-27</th>\n",
       "      <td>4.44</td>\n",
       "    </tr>\n",
       "    <tr>\n",
       "      <th>2024-12-30</th>\n",
       "      <td>4.43</td>\n",
       "    </tr>\n",
       "    <tr>\n",
       "      <th>2024-12-31</th>\n",
       "      <td>4.40</td>\n",
       "    </tr>\n",
       "    <tr>\n",
       "      <th>2025-01-01</th>\n",
       "      <td>NaN</td>\n",
       "    </tr>\n",
       "  </tbody>\n",
       "</table>\n",
       "<p>263 rows × 1 columns</p>\n",
       "</div>"
      ],
      "text/plain": [
       "            DGS1MO\n",
       "DATE              \n",
       "2024-01-01     NaN\n",
       "2024-01-02    5.55\n",
       "2024-01-03    5.54\n",
       "2024-01-04    5.56\n",
       "2024-01-05    5.54\n",
       "...            ...\n",
       "2024-12-26    4.45\n",
       "2024-12-27    4.44\n",
       "2024-12-30    4.43\n",
       "2024-12-31    4.40\n",
       "2025-01-01     NaN\n",
       "\n",
       "[263 rows x 1 columns]"
      ]
     },
     "execution_count": 12,
     "metadata": {},
     "output_type": "execute_result"
    }
   ],
   "source": [
    "rf = web.DataReader('DGS1MO', 'fred', '2024-01-01', '2025-01-01')  # 1-month Treasury rate\n",
    "rf"
   ]
  },
  {
   "cell_type": "code",
   "execution_count": 13,
   "id": "35cbb63e",
   "metadata": {},
   "outputs": [],
   "source": [
    "rf_ffill = rf.fillna(method='ffill')  # forward fill missing values (to account from weekends/holidays)\n",
    "r = rf_ffill.iloc[-1].values[0] / 100  # latest rate as decimal"
   ]
  },
  {
   "cell_type": "code",
   "execution_count": 14,
   "id": "2f79de54",
   "metadata": {},
   "outputs": [
    {
     "name": "stdout",
     "output_type": "stream",
     "text": [
      "European Call Option Price: 80.14786386392103\n"
     ]
    }
   ],
   "source": [
    "# For example, taking the last closing price as S0\n",
    "days_to_expiry = 30  # days until option expiry\n",
    "K = 170  # strike price\n",
    "\n",
    "S0 = data['Close'].iloc[-1]  # latest price\n",
    "T = days_to_expiry/365  # 30 days to expiry\n",
    "sigma = sigma_t_annualized  # using GARCH forecasted volatility\n",
    "\n",
    "call_price = black_scholes_call(S0, K, T, r, sigma)\n",
    "print(\"European Call Option Price:\", call_price)"
   ]
  },
  {
   "cell_type": "markdown",
   "id": "e1dc007e",
   "metadata": {},
   "source": [
    "This means that a 1-month call option with strike 170 costs $80.23.\n",
    "\n",
    "**How to use this information?**\n",
    "1.\tCompare to market price:\n",
    "    * If market call price > Black-Scholes price → option may be “expensive”\n",
    "    * If market call price < Black-Scholes price → option may be “cheap”\n",
    "\n",
    "2.\tEstimate risk-adjusted hedging:\n",
    "    * Use it to determine how many shares to buy/sell to hedge an option (delta-hedging).\n",
    "\n",
    "3.\tFeed into trading strategies:\n",
    "    * You can combine Black-Scholes price with volatility forecast to make trading decisions."
   ]
  },
  {
   "cell_type": "markdown",
   "id": "181abb7f",
   "metadata": {},
   "source": [
    "#### Step 5: The Greeks - Sensitivities"
   ]
  },
  {
   "cell_type": "markdown",
   "id": "6cc93974",
   "metadata": {},
   "source": [
    "Greeks are derivatives of the option price with respect to key inputs.\n",
    "\n",
    "Think of Greeks as risk measures:\n",
    "1.\tDelta (Δ) – How much the option price changes if the stock price moves by $1.\n",
    "\t* Measures sensitivity to Stock Price (S)\n",
    "\t* Call option: 0 → 1\n",
    "\t* Put option: -1 → 0\n",
    "\t* Intuition: If Δ = 0.6, a $1 increase in stock → $0.60 increase in call price.\n",
    "2.\tGamma (Γ) – How much delta changes if the stock price moves by $1.\n",
    "\t* Measures curvature of the option price.\n",
    "\t* Measures sensitivity to Delta $\\Delta$\n",
    "\t* High gamma → option price reacts sharply to stock moves.\n",
    "3.\tTheta (Θ) – How much the option price decreases per day due to time decay.\n",
    "\t* Measures sensitivity to Time\n",
    "\t* Options lose value as expiry approaches.\n",
    "4.\tVega (ν) – How much the option price changes if volatility changes by 1%.\n",
    "\t* Measures sensitivity to Volatility ($\\sigma$)\n",
    "\t* Higher volatility → more expensive options.\n",
    "5.\tRho (ρ) – How much the option price changes if risk-free interest rate $r$ changes by 1%.\n",
    "\t* Measures sensitivity to Interest Rate ($r$)"
   ]
  },
  {
   "cell_type": "markdown",
   "id": "f6343b0e",
   "metadata": {},
   "source": [
    "For European call options, the formulas are:\n",
    "\n",
    "$\\Delta = N(d_1)$\n",
    "\n",
    "$\\Gamma = \\frac{N’(d_1)}{S \\sigma \\sqrt{T}}$\n",
    "\n",
    "$\\Theta = -\\frac{S N’(d_1) \\sigma}{2\\sqrt{T}} - r K e^{-rT} N(d_2)$\n",
    "\n",
    "Vega = $S \\sqrt{T} N’(d_1)$\n",
    "\n",
    "Rho = $K T e^{-rT} N(d_2)$\n",
    "\n",
    "Where $N’(d1)$ is the standard normal PDF."
   ]
  },
  {
   "cell_type": "code",
   "execution_count": 15,
   "id": "e7c325a9",
   "metadata": {},
   "outputs": [
    {
     "name": "stdout",
     "output_type": "stream",
     "text": [
      "Delta: 1.0000, Gamma: 0.0000, Theta: -0.0204, Vega: 0.0000, Rho: 0.1392\n"
     ]
    }
   ],
   "source": [
    "def greeks_call(S, K, T, r, sigma):\n",
    "    d1 = (np.log(S/K) + (r + 0.5*sigma**2)*T) / (sigma*np.sqrt(T))\n",
    "    d2 = d1 - sigma*np.sqrt(T)\n",
    "    \n",
    "    delta = norm.cdf(d1)\n",
    "    gamma = norm.pdf(d1) / (S * sigma * np.sqrt(T))\n",
    "    theta = (-S * norm.pdf(d1) * sigma / (2 * np.sqrt(T))\n",
    "             - r * K * np.exp(-r*T) * norm.cdf(d2)) / 365  # per day\n",
    "    vega = S * np.sqrt(T) * norm.pdf(d1) / 100  # per 1% change\n",
    "    rho = K * T * np.exp(-r*T) * norm.cdf(d2) / 100  # per 1% change\n",
    "    \n",
    "    return delta, gamma, theta, vega, rho\n",
    "\n",
    "delta, gamma, theta, vega, rho = greeks_call(S0, K, T, r, sigma)\n",
    "print(f\"Delta: {delta:.4f}, Gamma: {gamma:.4f}, Theta: {theta:.4f}, Vega: {vega:.4f}, Rho: {rho:.4f}\")"
   ]
  },
  {
   "cell_type": "markdown",
   "id": "6f42258f",
   "metadata": {},
   "source": [
    "* Delta = 1.0 → the option moves almost 1-for-1 with the stock (deep in the money).\n",
    "* Gamma ≈ 0 → small curvature, consistent with deep ITM option.\n",
    "* Theta negative → loses value each day as time passes.\n",
    "* Vega ≈ 0 → volatility doesn’t matter much for deep ITM options.\n",
    "* Rho positive → higher rates slightly increase the option value."
   ]
  },
  {
   "cell_type": "markdown",
   "id": "e76427aa",
   "metadata": {},
   "source": [
    "#### Step 6: Portfolio Setup"
   ]
  },
  {
   "cell_type": "markdown",
   "id": "14b2bc53",
   "metadata": {},
   "source": [
    "We setup up a portfolio combining shares and call option."
   ]
  },
  {
   "cell_type": "code",
   "execution_count": 16,
   "id": "0e4f2772",
   "metadata": {},
   "outputs": [
    {
     "name": "stdout",
     "output_type": "stream",
     "text": [
      "Portfolio Value: $25033.57\n"
     ]
    }
   ],
   "source": [
    "shares = 100\n",
    "option_units = 1  # 1 call option contract = 100 shares\n",
    "\n",
    "stock_price = S0\n",
    "option_price = call_price\n",
    "\n",
    "portfolio_value = shares * stock_price + option_units * option_price\n",
    "print(f\"Portfolio Value: ${portfolio_value:.2f}\")"
   ]
  },
  {
   "cell_type": "markdown",
   "id": "2ecb29af",
   "metadata": {},
   "source": [
    "#### Step 7: Risk Measurement (VaR)"
   ]
  },
  {
   "cell_type": "markdown",
   "id": "e6d1b88d",
   "metadata": {},
   "source": [
    "Tells \"How much can I lose in a day, with 95% confidence?\"\n",
    "\n",
    "Think of VaR as a “worst-case loss” indicator:\n",
    "* Example: “Our 1-day 5% VaR is $1,000.”\n",
    "* This means there’s a 5% chance that the portfolio will lose more than $1,000 in one day.\n",
    "\n",
    "There are three main methods to calculate VaR:\n",
    "1.\tHistorical Simulation – Use past returns of assets.\n",
    "2.\tVariance-Covariance (Parametric) – Assume returns are normally distributed.\n",
    "3.\tMonte Carlo Simulation – Simulate thousands of possible future outcomes."
   ]
  },
  {
   "cell_type": "code",
   "execution_count": 17,
   "id": "99226d15",
   "metadata": {},
   "outputs": [],
   "source": [
    "data['Portfolio_Returns'] = shares * data['Returns'] + option_units * delta * data['Returns']"
   ]
  },
  {
   "cell_type": "code",
   "execution_count": 18,
   "id": "7567e854",
   "metadata": {},
   "outputs": [
    {
     "data": {
      "image/png": "[encoded data removed]",
      "text/plain": [
       "<Figure size 640x480 with 1 Axes>"
      ]
     },
     "metadata": {},
     "output_type": "display_data"
    }
   ],
   "source": [
    "sns.histplot(data['Portfolio_Returns'].dropna(), bins=50, alpha=0.7, kde=True)\n",
    "plt.xlabel(\"Daily Portfolio Returns\")\n",
    "plt.ylabel(\"Frequency\")\n",
    "plt.title(\"Histogram of Daily Portfolio Returns\")\n",
    "plt.show()"
   ]
  },
  {
   "cell_type": "markdown",
   "id": "ac2dc797",
   "metadata": {},
   "source": [
    "Note that this is a linear approximation, but it works well enough for small moves. We also see a bell-shaped curve, signifying that we can use parametric VaR to approximate risk"
   ]
  },
  {
   "cell_type": "markdown",
   "id": "8b104320",
   "metadata": {},
   "source": [
    "##### 7a: 1-Day VaR (Parametric)\n",
    "\n",
    "Assuming normal distribution of returns:\n",
    "\n",
    "$\\text{VaR} = z_\\alpha \\cdot \\sigma_p \\cdot \\text{Portfolio Value}$\n",
    "* $z_\\alpha$ = critical value from standard normal (e.g., 1.65 for 5%, in other words z-score for 5th percentile)\n",
    "* $\\sigma_p$ = standard deviation of portfolio returns"
   ]
  },
  {
   "cell_type": "code",
   "execution_count": 19,
   "id": "8c5167b3",
   "metadata": {},
   "outputs": [
    {
     "name": "stdout",
     "output_type": "stream",
     "text": [
      "1-Day 5% VaR: $82992.25\n"
     ]
    }
   ],
   "source": [
    "confidence_level = 0.05\n",
    "z = norm.ppf(confidence_level)\n",
    "\n",
    "# Portfolio standard deviation\n",
    "sigma_p = data['Portfolio_Returns'].std()\n",
    "\n",
    "VaR_1day = -z * sigma_p * portfolio_value\n",
    "print(f\"1-Day 5% VaR: ${VaR_1day:.2f}\")"
   ]
  },
  {
   "cell_type": "markdown",
   "id": "0a02fba5",
   "metadata": {},
   "source": [
    "Interpretation: There’s a 5% chance your portfolio could lose more than this amount tomorrow."
   ]
  },
  {
   "cell_type": "markdown",
   "id": "bdfb50c5",
   "metadata": {},
   "source": [
    "##### 7b: Monte Carlo Simulation for VaR"
   ]
  },
  {
   "cell_type": "markdown",
   "id": "e3668ac3",
   "metadata": {},
   "source": [
    "Idea:\n",
    "We simulate thousands of possible future stock prices, recalculate the option price using Black-Scholes, then compute the portfolio value for each simulation. Finally, we use the distribution of portfolio changes to estimate VaR."
   ]
  },
  {
   "cell_type": "markdown",
   "id": "00421a77",
   "metadata": {},
   "source": [
    "##### Simulate Future Stock Prices\n",
    "\n",
    "We assume stock returns are normally distributed, using historical mean and volatility:\n",
    "\n",
    "$S_{t+1} = S_t \\cdot e^{( \\mu - 0.5 \\sigma^2 ) \\Delta t + \\sigma \\sqrt{\\Delta t} \\cdot Z}$\n",
    "\n",
    "Where:\n",
    "* $Z \\sim N(0,1)$\n",
    "* $\\mu$ = average daily return\n",
    "* $\\sigma$ = daily volatility\n",
    "* $\\Delta t$ = 1 day"
   ]
  },
  {
   "cell_type": "code",
   "execution_count": 20,
   "id": "547f7523",
   "metadata": {},
   "outputs": [],
   "source": [
    "num_simulations = 100_000\n",
    "mu = data['Returns'].mean()\n",
    "sigma_daily = sigma_t\n",
    "S_t = S0"
   ]
  },
  {
   "cell_type": "code",
   "execution_count": 21,
   "id": "1c2ef9fb",
   "metadata": {},
   "outputs": [],
   "source": [
    "# Simulate future stock prices\n",
    "np.random.seed(42)\n",
    "Z = np.random.normal(0, 1, num_simulations)\n",
    "S_future = S_t * np.exp((mu - 0.5 * sigma_daily**2) + sigma_daily * Z)"
   ]
  },
  {
   "cell_type": "markdown",
   "id": "770b9907",
   "metadata": {},
   "source": [
    "##### Recalculate Option Prices for Each Simulation\n",
    "\n",
    "We recalculate European call option price for 1-day forward using Black-Scholes."
   ]
  },
  {
   "cell_type": "code",
   "execution_count": 22,
   "id": "e4f1f705",
   "metadata": {},
   "outputs": [],
   "source": [
    "T_1day = 1/365  # 1 day to expiry\n",
    "option_prices_future = [black_scholes_call(S, K, T_1day, r, sigma) for S in S_future]\n",
    "option_prices_future = np.array(option_prices_future)"
   ]
  },
  {
   "cell_type": "markdown",
   "id": "d25d9f22",
   "metadata": {},
   "source": [
    "##### Calculate Portfolio Value Changes"
   ]
  },
  {
   "cell_type": "code",
   "execution_count": 23,
   "id": "8c40edbe",
   "metadata": {},
   "outputs": [],
   "source": [
    "portfolio_future = shares * S_future + option_units * option_prices_future\n",
    "portfolio_change = portfolio_future - portfolio_value"
   ]
  },
  {
   "cell_type": "markdown",
   "id": "924353cb",
   "metadata": {},
   "source": [
    "##### Estimate 1-Day Monte Carlo VaR\n",
    "\n",
    "Take the 5th percentile of simulated losses:"
   ]
  },
  {
   "cell_type": "code",
   "execution_count": 24,
   "id": "5169284b",
   "metadata": {},
   "outputs": [
    {
     "name": "stdout",
     "output_type": "stream",
     "text": [
      "1-Day 5% Monte Carlo VaR: $523.58\n"
     ]
    }
   ],
   "source": [
    "VaR_mc = -np.percentile(portfolio_change, 5)\n",
    "print(f\"1-Day 5% Monte Carlo VaR: ${VaR_mc:.2f}\")"
   ]
  },
  {
   "cell_type": "markdown",
   "id": "86816a40",
   "metadata": {},
   "source": [
    "##### Visualize the distribution"
   ]
  },
  {
   "cell_type": "code",
   "execution_count": 25,
   "id": "7cbfcb79",
   "metadata": {},
   "outputs": [
    {
     "data": {
      "image/png": "[encoded data removed]",
      "text/plain": [
       "<Figure size 640x480 with 1 Axes>"
      ]
     },
     "metadata": {},
     "output_type": "display_data"
    }
   ],
   "source": [
    "plt.hist(portfolio_change, bins=50, color='skyblue', edgecolor='black', alpha=0.7)\n",
    "plt.axvline(-VaR_mc, color='red', linestyle='--', label=f'5% VaR = ${VaR_mc:.2f}')\n",
    "plt.title(\"Monte Carlo Simulation: Portfolio Value Change Distribution\")\n",
    "plt.xlabel(\"Portfolio Change ($)\")\n",
    "plt.ylabel(\"Frequency\")\n",
    "plt.legend()\n",
    "plt.show()"
   ]
  },
  {
   "cell_type": "markdown",
   "id": "276788ba",
   "metadata": {},
   "source": [
    "#### Step 8: Conclusions\n",
    "\n",
    "Key Takeaways:\n",
    "* GARCH models provide a more realistic volatility estimate than historical σ.\n",
    "* Black-Scholes allows pricing and hedging of European options; Greeks quantify risk exposures.\n",
    "* Portfolio VaR estimates demonstrate the impact of derivatives on risk.\n",
    "* Monte Carlo simulation captures nonlinear portfolio effects that parametric VaR may miss.\n",
    "\n",
    "Overall:\n",
    "This project demonstrates the ability to go from market data → quantitative modeling → derivatives pricing → risk measurement — the core workflow of a financial analyst or quant."
   ]
  },
  {
   "cell_type": "markdown",
   "id": "f542a2a2",
   "metadata": {},
   "source": [
    "#### Step 9: Future Work & Extensions\n",
    "\n",
    "1.\tMulti-Asset Portfolio:\n",
    "    * Include correlated stocks to model portfolio diversification effects\n",
    "2.\tDelta-Hedging Simulation:\n",
    "    * Track P&L while rebalancing to maintain delta-neutral portfolio\n",
    "3.\tExpected Shortfall (CVaR):\n",
    "    * Complement VaR with average loss beyond the threshold\n",
    "4.\tAlternative Pricing Models:\n",
    "    * Binomial trees for American options, or Monte Carlo for exotic options\n",
    "5. Implied Volatility Analysis:\n",
    "\t* Compare Black-Scholes implied vol with market option prices\n",
    "\t* Visualize volatility smile or surface\n"
   ]
  },
  {
   "cell_type": "markdown",
   "id": "f8f66313",
   "metadata": {},
   "source": [
    "✅ What we've achieved:\n",
    "1.\tSimulated thousands of possible future stock prices.\n",
    "2.\tRepriced the option for each scenario.\n",
    "3.\tCalculated the portfolio change distribution.\n",
    "4.\tComputed Monte Carlo 1-day VaR.\n",
    "5.\tVisualized portfolio risk with a histogram.\n",
    "\n",
    "This completes a full workflow from option pricing to risk management."
   ]
  }
 ],
 "metadata": {
  "kernelspec": {
   "display_name": "base",
   "language": "python",
   "name": "python3"
  },
  "language_info": {
   "codemirror_mode": {
    "name": "ipython",
    "version": 3
   },
   "file_extension": ".py",
   "mimetype": "text/x-python",
   "name": "python",
   "nbconvert_exporter": "python",
   "pygments_lexer": "ipython3",
   "version": "3.12.7"
  }
 },
 "nbformat": 4,
 "nbformat_minor": 5
}
